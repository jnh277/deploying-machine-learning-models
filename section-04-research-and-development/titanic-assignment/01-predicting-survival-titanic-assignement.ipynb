{
 "cells": [
  {
   "cell_type": "markdown",
   "metadata": {
    "pycharm": {
     "name": "#%% md\n"
    }
   },
   "source": [
    "## Predicting Survival on the Titanic\n",
    "\n",
    "### History\n",
    "Perhaps one of the most infamous shipwrecks in history, the Titanic sank after colliding with an iceberg, killing 1502 out of 2224 people on board. Interestingly, by analysing the probability of survival based on few attributes like gender, age, and social status, we can make very accurate predictions on which passengers would survive. Some groups of people were more likely to survive than others, such as women, children, and the upper-class. Therefore, we can learn about the society priorities and privileges at the time.\n",
    "\n",
    "### Assignment:\n",
    "\n",
    "Build a Machine Learning Pipeline, to engineer the features in the data set and predict who is more likely to Survive the catastrophe.\n",
    "\n",
    "Follow the Jupyter notebook below, and complete the missing bits of code, to achieve each one of the pipeline steps."
   ]
  },
  {
   "cell_type": "code",
   "execution_count": 203,
   "metadata": {
    "pycharm": {
     "name": "#%%\n"
    }
   },
   "outputs": [],
   "source": [
    "import re\n",
    "\n",
    "# to handle datasets\n",
    "import pandas as pd\n",
    "import numpy as np\n",
    "\n",
    "# for visualization\n",
    "import matplotlib.pyplot as plt\n",
    "\n",
    "# to divide train and test set\n",
    "from sklearn.model_selection import train_test_split\n",
    "\n",
    "# feature scaling\n",
    "from sklearn.preprocessing import StandardScaler\n",
    "\n",
    "# to build the models\n",
    "from sklearn.linear_model import LogisticRegression\n",
    "\n",
    "# to evaluate the models\n",
    "from sklearn.metrics import accuracy_score, roc_auc_score\n",
    "\n",
    "# to persist the model and the scaler\n",
    "import joblib\n",
    "\n",
    "# to visualise al the columns in the dataframe\n",
    "pd.pandas.set_option('display.max_columns', None)"
   ]
  },
  {
   "cell_type": "markdown",
   "metadata": {
    "pycharm": {
     "name": "#%% md\n"
    }
   },
   "source": [
    "## Prepare the data set"
   ]
  },
  {
   "cell_type": "code",
   "execution_count": 204,
   "metadata": {
    "pycharm": {
     "name": "#%%\n"
    }
   },
   "outputs": [
    {
     "data": {
      "text/plain": "   pclass  survived                                             name     sex  \\\n0       1         1                    Allen, Miss. Elisabeth Walton  female   \n1       1         1                   Allison, Master. Hudson Trevor    male   \n2       1         0                     Allison, Miss. Helen Loraine  female   \n3       1         0             Allison, Mr. Hudson Joshua Creighton    male   \n4       1         0  Allison, Mrs. Hudson J C (Bessie Waldo Daniels)  female   \n\n      age  sibsp  parch  ticket      fare    cabin embarked boat body  \\\n0      29      0      0   24160  211.3375       B5        S    2    ?   \n1  0.9167      1      2  113781    151.55  C22 C26        S   11    ?   \n2       2      1      2  113781    151.55  C22 C26        S    ?    ?   \n3      30      1      2  113781    151.55  C22 C26        S    ?  135   \n4      25      1      2  113781    151.55  C22 C26        S    ?    ?   \n\n                         home.dest  \n0                     St Louis, MO  \n1  Montreal, PQ / Chesterville, ON  \n2  Montreal, PQ / Chesterville, ON  \n3  Montreal, PQ / Chesterville, ON  \n4  Montreal, PQ / Chesterville, ON  ",
      "text/html": "<div>\n<style scoped>\n    .dataframe tbody tr th:only-of-type {\n        vertical-align: middle;\n    }\n\n    .dataframe tbody tr th {\n        vertical-align: top;\n    }\n\n    .dataframe thead th {\n        text-align: right;\n    }\n</style>\n<table border=\"1\" class=\"dataframe\">\n  <thead>\n    <tr style=\"text-align: right;\">\n      <th></th>\n      <th>pclass</th>\n      <th>survived</th>\n      <th>name</th>\n      <th>sex</th>\n      <th>age</th>\n      <th>sibsp</th>\n      <th>parch</th>\n      <th>ticket</th>\n      <th>fare</th>\n      <th>cabin</th>\n      <th>embarked</th>\n      <th>boat</th>\n      <th>body</th>\n      <th>home.dest</th>\n    </tr>\n  </thead>\n  <tbody>\n    <tr>\n      <th>0</th>\n      <td>1</td>\n      <td>1</td>\n      <td>Allen, Miss. Elisabeth Walton</td>\n      <td>female</td>\n      <td>29</td>\n      <td>0</td>\n      <td>0</td>\n      <td>24160</td>\n      <td>211.3375</td>\n      <td>B5</td>\n      <td>S</td>\n      <td>2</td>\n      <td>?</td>\n      <td>St Louis, MO</td>\n    </tr>\n    <tr>\n      <th>1</th>\n      <td>1</td>\n      <td>1</td>\n      <td>Allison, Master. Hudson Trevor</td>\n      <td>male</td>\n      <td>0.9167</td>\n      <td>1</td>\n      <td>2</td>\n      <td>113781</td>\n      <td>151.55</td>\n      <td>C22 C26</td>\n      <td>S</td>\n      <td>11</td>\n      <td>?</td>\n      <td>Montreal, PQ / Chesterville, ON</td>\n    </tr>\n    <tr>\n      <th>2</th>\n      <td>1</td>\n      <td>0</td>\n      <td>Allison, Miss. Helen Loraine</td>\n      <td>female</td>\n      <td>2</td>\n      <td>1</td>\n      <td>2</td>\n      <td>113781</td>\n      <td>151.55</td>\n      <td>C22 C26</td>\n      <td>S</td>\n      <td>?</td>\n      <td>?</td>\n      <td>Montreal, PQ / Chesterville, ON</td>\n    </tr>\n    <tr>\n      <th>3</th>\n      <td>1</td>\n      <td>0</td>\n      <td>Allison, Mr. Hudson Joshua Creighton</td>\n      <td>male</td>\n      <td>30</td>\n      <td>1</td>\n      <td>2</td>\n      <td>113781</td>\n      <td>151.55</td>\n      <td>C22 C26</td>\n      <td>S</td>\n      <td>?</td>\n      <td>135</td>\n      <td>Montreal, PQ / Chesterville, ON</td>\n    </tr>\n    <tr>\n      <th>4</th>\n      <td>1</td>\n      <td>0</td>\n      <td>Allison, Mrs. Hudson J C (Bessie Waldo Daniels)</td>\n      <td>female</td>\n      <td>25</td>\n      <td>1</td>\n      <td>2</td>\n      <td>113781</td>\n      <td>151.55</td>\n      <td>C22 C26</td>\n      <td>S</td>\n      <td>?</td>\n      <td>?</td>\n      <td>Montreal, PQ / Chesterville, ON</td>\n    </tr>\n  </tbody>\n</table>\n</div>"
     },
     "execution_count": 204,
     "metadata": {},
     "output_type": "execute_result"
    }
   ],
   "source": [
    "# load the data - it is available open source and online\n",
    "\n",
    "data = pd.read_csv('https://www.openml.org/data/get_csv/16826755/phpMYEkMl')\n",
    "\n",
    "# display data\n",
    "data.head()"
   ]
  },
  {
   "cell_type": "code",
   "execution_count": 205,
   "metadata": {
    "pycharm": {
     "name": "#%%\n"
    }
   },
   "outputs": [],
   "source": [
    "# replace interrogation marks by NaN values\n",
    "\n",
    "data = data.replace('?', np.nan)"
   ]
  },
  {
   "cell_type": "code",
   "execution_count": 206,
   "metadata": {
    "pycharm": {
     "name": "#%%\n"
    }
   },
   "outputs": [],
   "source": [
    "# retain only the first cabin if more than\n",
    "# 1 are available per passenger\n",
    "\n",
    "def get_first_cabin(row):\n",
    "    try:\n",
    "        return row.split()[0]\n",
    "    except:\n",
    "        return np.nan\n",
    "    \n",
    "data['cabin'] = data['cabin'].apply(get_first_cabin)"
   ]
  },
  {
   "cell_type": "code",
   "execution_count": 207,
   "metadata": {
    "pycharm": {
     "name": "#%%\n"
    }
   },
   "outputs": [],
   "source": [
    "# extracts the title (Mr, Ms, etc) from the name variable\n",
    "\n",
    "def get_title(passenger):\n",
    "    line = passenger\n",
    "    if re.search('Mrs', line):\n",
    "        return 'Mrs'\n",
    "    elif re.search('Mr', line):\n",
    "        return 'Mr'\n",
    "    elif re.search('Miss', line):\n",
    "        return 'Miss'\n",
    "    elif re.search('Master', line):\n",
    "        return 'Master'\n",
    "    else:\n",
    "        return 'Other'\n",
    "    \n",
    "data['title'] = data['name'].apply(get_title)"
   ]
  },
  {
   "cell_type": "code",
   "execution_count": 208,
   "metadata": {
    "pycharm": {
     "name": "#%%\n"
    }
   },
   "outputs": [],
   "source": [
    "# cast numerical variables as floats\n",
    "\n",
    "data['fare'] = data['fare'].astype('float')\n",
    "data['age'] = data['age'].astype('float')"
   ]
  },
  {
   "cell_type": "code",
   "execution_count": 209,
   "metadata": {
    "pycharm": {
     "name": "#%%\n"
    }
   },
   "outputs": [
    {
     "data": {
      "text/plain": "   pclass  survived     sex      age  sibsp  parch      fare cabin embarked  \\\n0       1         1  female  29.0000      0      0  211.3375    B5        S   \n1       1         1    male   0.9167      1      2  151.5500   C22        S   \n2       1         0  female   2.0000      1      2  151.5500   C22        S   \n3       1         0    male  30.0000      1      2  151.5500   C22        S   \n4       1         0  female  25.0000      1      2  151.5500   C22        S   \n\n    title  \n0    Miss  \n1  Master  \n2    Miss  \n3      Mr  \n4     Mrs  ",
      "text/html": "<div>\n<style scoped>\n    .dataframe tbody tr th:only-of-type {\n        vertical-align: middle;\n    }\n\n    .dataframe tbody tr th {\n        vertical-align: top;\n    }\n\n    .dataframe thead th {\n        text-align: right;\n    }\n</style>\n<table border=\"1\" class=\"dataframe\">\n  <thead>\n    <tr style=\"text-align: right;\">\n      <th></th>\n      <th>pclass</th>\n      <th>survived</th>\n      <th>sex</th>\n      <th>age</th>\n      <th>sibsp</th>\n      <th>parch</th>\n      <th>fare</th>\n      <th>cabin</th>\n      <th>embarked</th>\n      <th>title</th>\n    </tr>\n  </thead>\n  <tbody>\n    <tr>\n      <th>0</th>\n      <td>1</td>\n      <td>1</td>\n      <td>female</td>\n      <td>29.0000</td>\n      <td>0</td>\n      <td>0</td>\n      <td>211.3375</td>\n      <td>B5</td>\n      <td>S</td>\n      <td>Miss</td>\n    </tr>\n    <tr>\n      <th>1</th>\n      <td>1</td>\n      <td>1</td>\n      <td>male</td>\n      <td>0.9167</td>\n      <td>1</td>\n      <td>2</td>\n      <td>151.5500</td>\n      <td>C22</td>\n      <td>S</td>\n      <td>Master</td>\n    </tr>\n    <tr>\n      <th>2</th>\n      <td>1</td>\n      <td>0</td>\n      <td>female</td>\n      <td>2.0000</td>\n      <td>1</td>\n      <td>2</td>\n      <td>151.5500</td>\n      <td>C22</td>\n      <td>S</td>\n      <td>Miss</td>\n    </tr>\n    <tr>\n      <th>3</th>\n      <td>1</td>\n      <td>0</td>\n      <td>male</td>\n      <td>30.0000</td>\n      <td>1</td>\n      <td>2</td>\n      <td>151.5500</td>\n      <td>C22</td>\n      <td>S</td>\n      <td>Mr</td>\n    </tr>\n    <tr>\n      <th>4</th>\n      <td>1</td>\n      <td>0</td>\n      <td>female</td>\n      <td>25.0000</td>\n      <td>1</td>\n      <td>2</td>\n      <td>151.5500</td>\n      <td>C22</td>\n      <td>S</td>\n      <td>Mrs</td>\n    </tr>\n  </tbody>\n</table>\n</div>"
     },
     "execution_count": 209,
     "metadata": {},
     "output_type": "execute_result"
    }
   ],
   "source": [
    "# drop unnecessary variables\n",
    "\n",
    "data.drop(labels=['name','ticket', 'boat', 'body','home.dest'], axis=1, inplace=True)\n",
    "\n",
    "# display data\n",
    "data.head()"
   ]
  },
  {
   "cell_type": "code",
   "execution_count": 210,
   "metadata": {
    "pycharm": {
     "name": "#%%\n"
    }
   },
   "outputs": [],
   "source": [
    "# save the data set\n",
    "\n",
    "data.to_csv('titanic.csv', index=False)"
   ]
  },
  {
   "cell_type": "markdown",
   "metadata": {
    "pycharm": {
     "name": "#%% md\n"
    }
   },
   "source": [
    "## Data Exploration\n",
    "\n",
    "### Find numerical and categorical variables"
   ]
  },
  {
   "cell_type": "code",
   "execution_count": 211,
   "metadata": {
    "pycharm": {
     "name": "#%%\n"
    }
   },
   "outputs": [],
   "source": [
    "target = 'survived'"
   ]
  },
  {
   "cell_type": "code",
   "execution_count": 212,
   "metadata": {
    "pycharm": {
     "name": "#%%\n"
    }
   },
   "outputs": [
    {
     "data": {
      "text/plain": "   pclass  survived     sex      age  sibsp  parch      fare cabin embarked  \\\n0       1         1  female  29.0000      0      0  211.3375    B5        S   \n1       1         1    male   0.9167      1      2  151.5500   C22        S   \n2       1         0  female   2.0000      1      2  151.5500   C22        S   \n3       1         0    male  30.0000      1      2  151.5500   C22        S   \n4       1         0  female  25.0000      1      2  151.5500   C22        S   \n\n    title  \n0    Miss  \n1  Master  \n2    Miss  \n3      Mr  \n4     Mrs  ",
      "text/html": "<div>\n<style scoped>\n    .dataframe tbody tr th:only-of-type {\n        vertical-align: middle;\n    }\n\n    .dataframe tbody tr th {\n        vertical-align: top;\n    }\n\n    .dataframe thead th {\n        text-align: right;\n    }\n</style>\n<table border=\"1\" class=\"dataframe\">\n  <thead>\n    <tr style=\"text-align: right;\">\n      <th></th>\n      <th>pclass</th>\n      <th>survived</th>\n      <th>sex</th>\n      <th>age</th>\n      <th>sibsp</th>\n      <th>parch</th>\n      <th>fare</th>\n      <th>cabin</th>\n      <th>embarked</th>\n      <th>title</th>\n    </tr>\n  </thead>\n  <tbody>\n    <tr>\n      <th>0</th>\n      <td>1</td>\n      <td>1</td>\n      <td>female</td>\n      <td>29.0000</td>\n      <td>0</td>\n      <td>0</td>\n      <td>211.3375</td>\n      <td>B5</td>\n      <td>S</td>\n      <td>Miss</td>\n    </tr>\n    <tr>\n      <th>1</th>\n      <td>1</td>\n      <td>1</td>\n      <td>male</td>\n      <td>0.9167</td>\n      <td>1</td>\n      <td>2</td>\n      <td>151.5500</td>\n      <td>C22</td>\n      <td>S</td>\n      <td>Master</td>\n    </tr>\n    <tr>\n      <th>2</th>\n      <td>1</td>\n      <td>0</td>\n      <td>female</td>\n      <td>2.0000</td>\n      <td>1</td>\n      <td>2</td>\n      <td>151.5500</td>\n      <td>C22</td>\n      <td>S</td>\n      <td>Miss</td>\n    </tr>\n    <tr>\n      <th>3</th>\n      <td>1</td>\n      <td>0</td>\n      <td>male</td>\n      <td>30.0000</td>\n      <td>1</td>\n      <td>2</td>\n      <td>151.5500</td>\n      <td>C22</td>\n      <td>S</td>\n      <td>Mr</td>\n    </tr>\n    <tr>\n      <th>4</th>\n      <td>1</td>\n      <td>0</td>\n      <td>female</td>\n      <td>25.0000</td>\n      <td>1</td>\n      <td>2</td>\n      <td>151.5500</td>\n      <td>C22</td>\n      <td>S</td>\n      <td>Mrs</td>\n    </tr>\n  </tbody>\n</table>\n</div>"
     },
     "execution_count": 212,
     "metadata": {},
     "output_type": "execute_result"
    }
   ],
   "source": [
    "data.head()"
   ]
  },
  {
   "cell_type": "code",
   "execution_count": 213,
   "outputs": [
    {
     "name": "stdout",
     "output_type": "stream",
     "text": [
      "number of values in\n",
      "pclass has 3 unique values\n",
      "survived has 2 unique values\n",
      "sex has 2 unique values\n",
      "age has 99 unique values\n",
      "sibsp has 7 unique values\n",
      "parch has 8 unique values\n",
      "fare has 282 unique values\n",
      "cabin has 182 unique values\n",
      "embarked has 4 unique values\n",
      "title has 5 unique values\n"
     ]
    }
   ],
   "source": [
    "print(\"number of values in\")\n",
    "for col in data:\n",
    "    print(\"{} has {} unique values\".format(col, len(data[col].unique())))"
   ],
   "metadata": {
    "collapsed": false,
    "pycharm": {
     "name": "#%%\n"
    }
   }
  },
  {
   "cell_type": "code",
   "execution_count": 214,
   "outputs": [
    {
     "data": {
      "text/plain": "Index(['pclass', 'survived', 'sex', 'age', 'sibsp', 'parch', 'fare', 'cabin',\n       'embarked', 'title'],\n      dtype='object')"
     },
     "execution_count": 214,
     "metadata": {},
     "output_type": "execute_result"
    }
   ],
   "source": [
    "data.columns"
   ],
   "metadata": {
    "collapsed": false,
    "pycharm": {
     "name": "#%%\n"
    }
   }
  },
  {
   "cell_type": "code",
   "execution_count": 215,
   "outputs": [
    {
     "name": "stdout",
     "output_type": "stream",
     "text": [
      "Number of numerical variables: 5\n",
      "Number of categorical variables: 4\n"
     ]
    }
   ],
   "source": [
    "\n",
    "vars_num = [\"age\", \"fare\", \"pclass\", \"sibsp\", \"parch\"]\n",
    "\n",
    "vars_cat = [\"sex\", \"embarked\", \"title\", \"cabin\"]\n",
    "\n",
    "print('Number of numerical variables: {}'.format(len(vars_num)))\n",
    "print('Number of categorical variables: {}'.format(len(vars_cat)))"
   ],
   "metadata": {
    "collapsed": false,
    "pycharm": {
     "name": "#%%\n"
    }
   }
  },
  {
   "cell_type": "markdown",
   "metadata": {
    "pycharm": {
     "name": "#%% md\n"
    }
   },
   "source": [
    "### Find missing values in variables"
   ]
  },
  {
   "cell_type": "code",
   "execution_count": 216,
   "metadata": {
    "pycharm": {
     "name": "#%%\n"
    }
   },
   "outputs": [
    {
     "name": "stdout",
     "output_type": "stream",
     "text": [
      "age has 20.091673032849503% missing\n",
      "fare has 0.07639419404125286% missing\n",
      "pclass has 0.0% missing\n",
      "sibsp has 0.0% missing\n",
      "parch has 0.0% missing\n"
     ]
    }
   ],
   "source": [
    "# first in numerical variables\n",
    "missing_num = {}\n",
    "N = len(data)\n",
    "for var in vars_num:\n",
    "    missing_num[var] = data[var].isna()\n",
    "    print(\"{} has {}% missing\".format(var,sum(data[var].isna())/N*100))"
   ]
  },
  {
   "cell_type": "code",
   "execution_count": 217,
   "metadata": {
    "pycharm": {
     "name": "#%%\n"
    }
   },
   "outputs": [
    {
     "name": "stdout",
     "output_type": "stream",
     "text": [
      "sex has 0.00% missing\n",
      "embarked has 0.15% missing\n",
      "title has 0.00% missing\n",
      "cabin has 77.46% missing\n"
     ]
    }
   ],
   "source": [
    "# now in categorical variables\n",
    "missing_cat = {}\n",
    "for var in vars_cat:\n",
    "    missing_cat[var] = data[var].isna()\n",
    "    print(\"{} has {:.2f}% missing\".format(var,sum(data[var].isna())/N*100))"
   ]
  },
  {
   "cell_type": "markdown",
   "metadata": {
    "pycharm": {
     "name": "#%% md\n"
    }
   },
   "source": [
    "### Determine cardinality of categorical variables"
   ]
  },
  {
   "cell_type": "code",
   "execution_count": 218,
   "metadata": {
    "pycharm": {
     "name": "#%%\n"
    }
   },
   "outputs": [
    {
     "name": "stdout",
     "output_type": "stream",
     "text": [
      "sex has cardinality 2\n",
      "embarked has cardinality 4\n",
      "title has cardinality 5\n",
      "cabin has cardinality 182\n"
     ]
    }
   ],
   "source": [
    "for var in vars_cat:\n",
    "    print(\"{} has cardinality {}\".format(var, len(data[var].unique())))"
   ]
  },
  {
   "cell_type": "markdown",
   "metadata": {
    "pycharm": {
     "name": "#%% md\n"
    }
   },
   "source": [
    "### Determine the distribution of numerical variables"
   ]
  },
  {
   "cell_type": "code",
   "execution_count": 223,
   "metadata": {
    "pycharm": {
     "name": "#%%\n"
    }
   },
   "outputs": [
    {
     "data": {
      "text/plain": "<Figure size 432x288 with 5 Axes>",
      "image/png": "[encoded data removed]"
     },
     "metadata": {
      "needs_background": "light"
     },
     "output_type": "display_data"
    }
   ],
   "source": [
    "import matplotlib.pyplot as plt\n",
    "plt.subplot(2,3,1)\n",
    "data['fare'].hist(bins=50, density=True)\n",
    "plt.xlabel(\"fare\")\n",
    "\n",
    "plt.subplot(2, 3, 2)\n",
    "data[\"age\"].hist(bins=50, density=True)\n",
    "plt.xlabel(\"age\")\n",
    "\n",
    "plt.subplot(2, 3, 3)\n",
    "data[\"pclass\"].hist(bins=3, density=True)\n",
    "plt.xlabel(\"pclass\")\n",
    "plt.tight_layout()\n",
    "\n",
    "plt.subplot(2, 3, 4)\n",
    "data[\"sibsp\"].hist(bins=5, density=True)\n",
    "plt.xlabel(\"sibsp\")\n",
    "\n",
    "plt.subplot(2, 3, 5)\n",
    "data[\"parch\"].hist(bins=5, density=True)\n",
    "plt.xlabel(\"parch\")\n",
    "plt.tight_layout()\n",
    "plt.show()"
   ]
  },
  {
   "cell_type": "markdown",
   "metadata": {
    "pycharm": {
     "name": "#%% md\n"
    }
   },
   "source": [
    "## Separate data into train and test\n",
    "\n",
    "Use the code below for reproducibility. Don't change it."
   ]
  },
  {
   "cell_type": "code",
   "execution_count": 196,
   "metadata": {
    "pycharm": {
     "name": "#%%\n"
    }
   },
   "outputs": [
    {
     "data": {
      "text/plain": "((1047, 9), (262, 9))"
     },
     "execution_count": 196,
     "metadata": {},
     "output_type": "execute_result"
    }
   ],
   "source": []
  },
  {
   "cell_type": "markdown",
   "metadata": {
    "pycharm": {
     "name": "#%% md\n"
    }
   },
   "source": [
    "## Feature Engineering\n",
    "\n",
    "### Extract only the letter (and drop the number) from the variable Cabin"
   ]
  },
  {
   "cell_type": "code",
   "execution_count": 224,
   "metadata": {
    "pycharm": {
     "name": "#%%\n"
    }
   },
   "outputs": [
    {
     "data": {
      "text/plain": "['B', 'C', 'E', 'D', 'A', nan, 'T', 'F', 'G']"
     },
     "execution_count": 224,
     "metadata": {},
     "output_type": "execute_result"
    }
   ],
   "source": [
    "\n",
    "data.loc[~missing_cat['cabin'],'cabin'] =  [cabin[0] for cabin in data[\"cabin\"][~missing_cat['cabin']].to_list()]\n",
    "data[\"cabin\"].unique().tolist()"
   ]
  },
  {
   "cell_type": "markdown",
   "metadata": {
    "pycharm": {
     "name": "#%% md\n"
    }
   },
   "source": [
    "### Fill in Missing data in numerical variables:\n",
    "\n",
    "- Add a binary missing indicator\n",
    "- Fill NA in original variable with the median"
   ]
  },
  {
   "cell_type": "code",
   "execution_count": 239,
   "metadata": {
    "pycharm": {
     "name": "#%%\n"
    }
   },
   "outputs": [
    {
     "name": "stdout",
     "output_type": "stream",
     "text": [
      "<class 'pandas.core.frame.DataFrame'>\n",
      "RangeIndex: 1309 entries, 0 to 1308\n",
      "Data columns (total 12 columns):\n",
      " #   Column        Non-Null Count  Dtype  \n",
      "---  ------        --------------  -----  \n",
      " 0   pclass        1309 non-null   float64\n",
      " 1   survived      1309 non-null   int64  \n",
      " 2   sex           1309 non-null   object \n",
      " 3   age           1309 non-null   float64\n",
      " 4   sibsp         1309 non-null   float64\n",
      " 5   parch         1309 non-null   float64\n",
      " 6   fare          1309 non-null   float64\n",
      " 7   cabin         1309 non-null   object \n",
      " 8   embarked      1309 non-null   object \n",
      " 9   title         1309 non-null   object \n",
      " 10  age_missing   1309 non-null   bool   \n",
      " 11  fare_missing  1309 non-null   bool   \n",
      "dtypes: bool(2), float64(5), int64(1), object(4)\n",
      "memory usage: 104.9+ KB\n"
     ]
    }
   ],
   "source": [
    "for var in vars_num:\n",
    "    if sum(data[var].isna()):\n",
    "        data[var + \"_missing\"] = missing_num[var]\n",
    "        data.loc[data[var].isna(), var] = data[var].median()\n",
    "\n",
    "data.info()"
   ]
  },
  {
   "cell_type": "markdown",
   "metadata": {
    "pycharm": {
     "name": "#%% md\n"
    }
   },
   "source": [
    "### Replace Missing data in categorical variables with the string **Missing**"
   ]
  },
  {
   "cell_type": "code",
   "execution_count": 240,
   "metadata": {
    "pycharm": {
     "name": "#%%\n"
    }
   },
   "outputs": [],
   "source": [
    "for var in vars_cat:\n",
    "    data.loc[data[var].isna(), var] = \"missing\""
   ]
  },
  {
   "cell_type": "code",
   "execution_count": 241,
   "metadata": {
    "pycharm": {
     "name": "#%%\n"
    }
   },
   "outputs": [
    {
     "name": "stdout",
     "output_type": "stream",
     "text": [
      "<class 'pandas.core.frame.DataFrame'>\n",
      "RangeIndex: 1309 entries, 0 to 1308\n",
      "Data columns (total 12 columns):\n",
      " #   Column        Non-Null Count  Dtype  \n",
      "---  ------        --------------  -----  \n",
      " 0   pclass        1309 non-null   float64\n",
      " 1   survived      1309 non-null   int64  \n",
      " 2   sex           1309 non-null   object \n",
      " 3   age           1309 non-null   float64\n",
      " 4   sibsp         1309 non-null   float64\n",
      " 5   parch         1309 non-null   float64\n",
      " 6   fare          1309 non-null   float64\n",
      " 7   cabin         1309 non-null   object \n",
      " 8   embarked      1309 non-null   object \n",
      " 9   title         1309 non-null   object \n",
      " 10  age_missing   1309 non-null   bool   \n",
      " 11  fare_missing  1309 non-null   bool   \n",
      "dtypes: bool(2), float64(5), int64(1), object(4)\n",
      "memory usage: 104.9+ KB\n"
     ]
    }
   ],
   "source": [
    "data.info()"
   ]
  },
  {
   "cell_type": "markdown",
   "metadata": {
    "pycharm": {
     "name": "#%% md\n"
    }
   },
   "source": [
    "### Remove rare labels in categorical variables\n",
    "\n",
    "- remove labels present in less than 5 % of the passengers"
   ]
  },
  {
   "cell_type": "code",
   "execution_count": 242,
   "metadata": {
    "pycharm": {
     "name": "#%%\n"
    }
   },
   "outputs": [
    {
     "name": "stdout",
     "output_type": "stream",
     "text": [
      "sex\n",
      "\t category female appears 35.59969442322384%\n",
      "\t category male appears 64.40030557677616%\n",
      "embarked\n",
      "\t category S appears 69.82429335370512%\n",
      "\t category C appears 20.626432391138273%\n",
      "\t category missing appears 0.15278838808250572%\n",
      "\t category Q appears 9.396485867074103%\n",
      "title\n",
      "\t category Miss appears 19.709702062643238%\n",
      "\t category Master appears 4.660045836516425%\n",
      "\t category Mr appears 57.90679908326967%\n",
      "\t category Mrs appears 15.355233002291827%\n",
      "\t category Other appears 2.3682200152788386%\n",
      "cabin\n",
      "\t category B appears 4.965622612681436%\n",
      "\t category C appears 7.18105423987777%\n",
      "\t category E appears 3.132161955691368%\n",
      "\t category D appears 3.514132925897632%\n",
      "\t category A appears 1.680672268907563%\n",
      "\t category missing appears 77.46371275783041%\n",
      "\t category T appears 0.07639419404125286%\n",
      "\t category F appears 1.6042780748663104%\n",
      "\t category G appears 0.38197097020626436%\n"
     ]
    }
   ],
   "source": [
    "for var in vars_cat:\n",
    "    print(var)\n",
    "    for cat in data[var].unique().tolist():\n",
    "        print(\"\\t category {} appears {}%\".format(cat, sum(data[var]==cat)/N*100))"
   ]
  },
  {
   "cell_type": "code",
   "execution_count": 247,
   "metadata": {
    "pycharm": {
     "name": "#%%\n"
    }
   },
   "outputs": [],
   "source": [
    "\n",
    "data.loc[(data[\"title\"]==\"Other\") | (data[\"title\"]==\"Master\"), \"title\"] = \"rare\"\n",
    "data.loc[(data[\"cabin\"]==\"E\") | (data[\"cabin\"]==\"D\") | (data[\"cabin\"]==\"A\") | (data[\"cabin\"]==\"T\") | (data[\"cabin\"]==\"F\") | (data[\"cabin\"]==\"G\"), \"cabin\"] = \"rare\"\n",
    "data.loc[(data[\"cabin\"]==\"E\") | (data[\"cabin\"]==\"D\"), \"cabin\"] = \"rare\""
   ]
  },
  {
   "cell_type": "code",
   "execution_count": 248,
   "metadata": {
    "pycharm": {
     "name": "#%%\n"
    }
   },
   "outputs": [
    {
     "data": {
      "text/plain": "['B', 'C', 'rare', 'missing']"
     },
     "execution_count": 248,
     "metadata": {},
     "output_type": "execute_result"
    }
   ],
   "source": [
    "data['cabin'].unique().tolist()"
   ]
  },
  {
   "cell_type": "markdown",
   "metadata": {
    "pycharm": {
     "name": "#%% md\n"
    }
   },
   "source": [
    "### Perform one hot encoding of categorical variables into k-1 binary variables\n",
    "\n",
    "- k-1, means that if the variable contains 9 different categories, we create 8 different binary variables\n",
    "- Remember to drop the original categorical variable (the one with the strings) after the encoding"
   ]
  },
  {
   "cell_type": "code",
   "execution_count": 249,
   "metadata": {
    "pycharm": {
     "name": "#%%\n"
    }
   },
   "outputs": [
    {
     "name": "stdout",
     "output_type": "stream",
     "text": [
      "<class 'pandas.core.frame.DataFrame'>\n",
      "RangeIndex: 1309 entries, 0 to 1308\n",
      "Data columns (total 15 columns):\n",
      " #   Column        Non-Null Count  Dtype  \n",
      "---  ------        --------------  -----  \n",
      " 0   pclass        1309 non-null   float64\n",
      " 1   survived      1309 non-null   int64  \n",
      " 2   sex           1309 non-null   object \n",
      " 3   age           1309 non-null   float64\n",
      " 4   sibsp         1309 non-null   float64\n",
      " 5   parch         1309 non-null   float64\n",
      " 6   fare          1309 non-null   float64\n",
      " 7   cabin         1309 non-null   object \n",
      " 8   embarked      1309 non-null   object \n",
      " 9   title         1309 non-null   object \n",
      " 10  age_missing   1309 non-null   bool   \n",
      " 11  fare_missing  1309 non-null   bool   \n",
      " 12  cabin_B       1309 non-null   bool   \n",
      " 13  cabin_C       1309 non-null   bool   \n",
      " 14  cabin_rare    1309 non-null   bool   \n",
      "dtypes: bool(5), float64(5), int64(1), object(4)\n",
      "memory usage: 108.8+ KB\n"
     ]
    }
   ],
   "source": [
    "\n",
    "for cat in data[\"cabin\"].unique().tolist():\n",
    "    if cat != \"missing\":\n",
    "        data[\"cabin_\" + cat] = data[\"cabin\"]==cat\n",
    "data.info()"
   ]
  },
  {
   "cell_type": "code",
   "execution_count": 250,
   "metadata": {
    "pycharm": {
     "name": "#%%\n"
    }
   },
   "outputs": [],
   "source": [
    "data[\"female\"] = data[\"sex\"]==\"female\""
   ]
  },
  {
   "cell_type": "code",
   "execution_count": 251,
   "metadata": {
    "pycharm": {
     "name": "#%%\n"
    }
   },
   "outputs": [
    {
     "name": "stdout",
     "output_type": "stream",
     "text": [
      "<class 'pandas.core.frame.DataFrame'>\n",
      "RangeIndex: 1309 entries, 0 to 1308\n",
      "Data columns (total 19 columns):\n",
      " #   Column        Non-Null Count  Dtype  \n",
      "---  ------        --------------  -----  \n",
      " 0   pclass        1309 non-null   float64\n",
      " 1   survived      1309 non-null   int64  \n",
      " 2   sex           1309 non-null   object \n",
      " 3   age           1309 non-null   float64\n",
      " 4   sibsp         1309 non-null   float64\n",
      " 5   parch         1309 non-null   float64\n",
      " 6   fare          1309 non-null   float64\n",
      " 7   cabin         1309 non-null   object \n",
      " 8   embarked      1309 non-null   object \n",
      " 9   title         1309 non-null   object \n",
      " 10  age_missing   1309 non-null   bool   \n",
      " 11  fare_missing  1309 non-null   bool   \n",
      " 12  cabin_B       1309 non-null   bool   \n",
      " 13  cabin_C       1309 non-null   bool   \n",
      " 14  cabin_rare    1309 non-null   bool   \n",
      " 15  female        1309 non-null   bool   \n",
      " 16  embarked_S    1309 non-null   bool   \n",
      " 17  embarked_C    1309 non-null   bool   \n",
      " 18  embarked_Q    1309 non-null   bool   \n",
      "dtypes: bool(9), float64(5), int64(1), object(4)\n",
      "memory usage: 113.9+ KB\n"
     ]
    }
   ],
   "source": [
    "for cat in data[\"embarked\"].unique().tolist():\n",
    "    if cat != \"missing\":\n",
    "        data[\"embarked_\" + cat] = data[\"embarked\"]==cat\n",
    "data.info()"
   ]
  },
  {
   "cell_type": "code",
   "execution_count": null,
   "metadata": {
    "pycharm": {
     "name": "#%%\n"
    }
   },
   "outputs": [],
   "source": [
    "for cat in data[\"title\"].unique().tolist():\n",
    "    if cat != \"rare\":\n",
    "        data[\"title_\" + cat] = data[\"title\"]==cat\n",
    "data.info()"
   ]
  },
  {
   "cell_type": "code",
   "execution_count": 255,
   "outputs": [
    {
     "data": {
      "text/plain": "((1047, 17), (262, 17))"
     },
     "execution_count": 255,
     "metadata": {},
     "output_type": "execute_result"
    }
   ],
   "source": [
    "data_use = data.drop(columns=[\"sex\", \"cabin\", \"embarked\", \"title\"])\n",
    "\n",
    "X_train, X_test, y_train, y_test = train_test_split(\n",
    "    data_use.drop('survived', axis=1),  # predictors\n",
    "    data_use['survived'],  # target\n",
    "    test_size=0.2,  # percentage of obs in test set\n",
    "    random_state=0)  # seed to ensure reproducibility\n",
    "\n",
    "X_train.shape, X_test.shape"
   ],
   "metadata": {
    "collapsed": false,
    "pycharm": {
     "name": "#%%\n"
    }
   }
  },
  {
   "cell_type": "markdown",
   "metadata": {
    "pycharm": {
     "name": "#%% md\n"
    }
   },
   "source": [
    "### Scale the variables\n",
    "\n",
    "- Use the standard scaler from Scikit-learn"
   ]
  },
  {
   "cell_type": "code",
   "execution_count": 261,
   "metadata": {
    "pycharm": {
     "name": "#%%\n"
    }
   },
   "outputs": [],
   "source": [
    "from sklearn.preprocessing import StandardScaler\n",
    "scaler = StandardScaler()\n",
    "scaler.fit(X_train)\n",
    "\n",
    "X_train = scaler.transform(X_train)\n",
    "X_test = scaler.transform(X_test)\n"
   ]
  },
  {
   "cell_type": "markdown",
   "metadata": {
    "pycharm": {
     "name": "#%% md\n"
    }
   },
   "source": [
    "## Train the Logistic Regression model\n",
    "\n",
    "- Set the regularization parameter to 0.0005\n",
    "- Set the seed to 0"
   ]
  },
  {
   "cell_type": "code",
   "execution_count": 263,
   "metadata": {
    "pycharm": {
     "name": "#%%\n"
    }
   },
   "outputs": [
    {
     "data": {
      "text/plain": "Lasso(alpha=0.0005, random_state=0)"
     },
     "execution_count": 263,
     "metadata": {},
     "output_type": "execute_result"
    }
   ],
   "source": [
    "from sklearn.linear_model import Lasso\n",
    "\n",
    "lin_model = Lasso(alpha=0.0005, random_state=0)\n",
    "# train the model\n",
    "\n",
    "lin_model.fit(X_train, y_train)"
   ]
  },
  {
   "cell_type": "markdown",
   "metadata": {
    "pycharm": {
     "name": "#%% md\n"
    }
   },
   "source": [
    "## Make predictions and evaluate model performance\n",
    "\n",
    "Determine:\n",
    "- roc-auc\n",
    "- accuracy\n",
    "\n",
    "**Important, remember that to determine the accuracy, you need the outcome 0, 1, referring to survived or not. But to determine the roc-auc you need the probability of survival.**"
   ]
  },
  {
   "cell_type": "code",
   "execution_count": 277,
   "metadata": {
    "pycharm": {
     "name": "#%%\n"
    }
   },
   "outputs": [
    {
     "name": "stdout",
     "output_type": "stream",
     "text": [
      "Train accuracy was 0.8080229226361032\n",
      "Test accuracy was 0.7977099236641222\n",
      "auc was 0.8557716049382715\n"
     ]
    }
   ],
   "source": [
    "from sklearn.metrics import accuracy_score\n",
    "y_test_prob = lin_model.predict(X_test)\n",
    "y_train_prob = lin_model.predict(X_train)\n",
    "\n",
    "y_test_pred = y_test_prob > 0.5\n",
    "y_train_pred = y_train_prob > 0.5\n",
    "#\n",
    "#\n",
    "from sklearn.metrics import accuracy_score\n",
    "from sklearn.metrics import roc_auc_score\n",
    "train_accuracy = accuracy_score(y_train, y_train_pred)\n",
    "test_accuracy = accuracy_score(y_test, y_test_pred)\n",
    "\n",
    "auc = roc_auc_score(y_test, y_test_prob)\n",
    "\n",
    "print(\"Train accuracy was {}\".format(train_accuracy))\n",
    "print(\"Test accuracy was {}\".format(test_accuracy))\n",
    "print(\"auc was {}\".format(auc))"
   ]
  },
  {
   "cell_type": "code",
   "execution_count": 276,
   "outputs": [
    {
     "data": {
      "text/plain": "<Figure size 432x288 with 1 Axes>",
      "image/png": "[encoded data removed]"
     },
     "metadata": {
      "needs_background": "light"
     },
     "output_type": "display_data"
    }
   ],
   "source": [
    "from sklearn import metrics\n",
    "fpr, tpr, thresholds = metrics.roc_curve(y_test, y_test_prob)\n",
    "\n",
    "plt.plot(fpr, tpr)\n",
    "plt.show()"
   ],
   "metadata": {
    "collapsed": false,
    "pycharm": {
     "name": "#%%\n"
    }
   }
  },
  {
   "cell_type": "markdown",
   "metadata": {
    "pycharm": {
     "name": "#%% md\n"
    }
   },
   "source": [
    "That's it! Well done\n",
    "\n",
    "**Keep this code safe, as we will use this notebook later on, to build production code, in our next assignement!!**"
   ]
  },
  {
   "cell_type": "code",
   "execution_count": null,
   "metadata": {
    "pycharm": {
     "name": "#%%\n"
    }
   },
   "outputs": [],
   "source": []
  }
 ],
 "metadata": {
  "kernelspec": {
   "name": "python3",
   "language": "python",
   "display_name": "Python 3 (ipykernel)"
  },
  "language_info": {
   "codemirror_mode": {
    "name": "ipython",
    "version": 3
   },
   "file_extension": ".py",
   "mimetype": "text/x-python",
   "name": "python",
   "nbconvert_exporter": "python",
   "pygments_lexer": "ipython3",
   "version": "3.8.2"
  },
  "toc": {
   "base_numbering": 1,
   "nav_menu": {},
   "number_sections": true,
   "sideBar": true,
   "skip_h1_title": false,
   "title_cell": "Table of Contents",
   "title_sidebar": "Contents",
   "toc_cell": false,
   "toc_position": {},
   "toc_section_display": true,
   "toc_window_display": true
  }
 },
 "nbformat": 4,
 "nbformat_minor": 2
}